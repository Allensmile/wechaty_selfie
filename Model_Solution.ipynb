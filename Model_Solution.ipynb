{
 "cells": [
  {
   "cell_type": "markdown",
   "metadata": {},
   "source": [
    "**Step 1 : 首先针对获取到的数据进行第一步筛选：时间筛选，筛选出存在时间大于2000秒的数据.因为Instagram只能爬取到最近发布的动态，所以我们尽可能的筛选出发布时间最久的动态**"
   ]
  },
  {
   "cell_type": "code",
   "execution_count": 3,
   "metadata": {
    "collapsed": false,
    "scrolled": true
   },
   "outputs": [],
   "source": [
    "import os\n",
    "\n",
    "def sort_by_time():\n",
    "    image_url = [\"/home/wxr/hyx/SELFIE/SpiderForSelfie-0.1.1/data\",]\n",
    "    image_sort = \"/home/wxr/hyx/SELFIE/SpiderForSelfie-0.1.1/data_sort_longer_than_1000\"\n",
    "\n",
    "    for path_name in image_url:\n",
    "        for name in sorted(os.listdir(path_name)):\n",
    "            path = os.path.join(path_name,name)\n",
    "            f = open(path,\"rU\")\n",
    "            path_write = os.path.join(image_sort,name)\n",
    "            f_write = open(path_write,\"w\")\n",
    "            line = f.readline()\n",
    "            while line:\n",
    "                if len(line.split(\"\t\")) > 3:\n",
    "                    try :\n",
    "                        if (int)(line.split(\"\t\")[3]) > 2000:\n",
    "                            f_write.write(line)\n",
    "                    except:\n",
    "                        pass\n",
    "                line = f.readline() \n",
    "            f.close()\n",
    "sort_by_time()"
   ]
  },
  {
   "cell_type": "markdown",
   "metadata": {},
   "source": [
    "**Step 2 : 对上一步筛选的数据进行分析，获取点赞数和粉丝数并绘图，如图可见，点赞数和粉丝数都非常集中**"
   ]
  },
  {
   "cell_type": "code",
   "execution_count": 3,
   "metadata": {
    "collapsed": false
   },
   "outputs": [
    {
     "data": {
      "image/png": "[encoded data removed]",
      "text/plain": [
       "<matplotlib.figure.Figure at 0x7f0378956e10>"
      ]
     },
     "metadata": {},
     "output_type": "display_data"
    }
   ],
   "source": [
    "import pylab as pl\n",
    "\n",
    "pl.title('love vs. follower')# give plot a title\n",
    "pl.xlabel('love')# make axis labels\n",
    "pl.ylabel('follower')\n",
    "pl.plot(x, y, 'o')# use pylab to plot x and y\n",
    "pl.show()# show the plot on the screen"
   ]
  },
  {
   "cell_type": "markdown",
   "metadata": {},
   "source": [
    "**Step 3 : 首先将点赞数和该点赞数的个数进行绘制，查看点赞数的分布情况:可见大多分布在0-10（甚至0-8）之间 因此直接将用户点赞数当作评分，构造一个0-9的10分类问题**"
   ]
  },
  {
   "cell_type": "code",
   "execution_count": 4,
   "metadata": {
    "collapsed": false
   },
   "outputs": [
    {
     "data": {
      "image/png": "[encoded data removed]",
      "text/plain": [
       "<matplotlib.figure.Figure at 0x7f03199d2610>"
      ]
     },
     "metadata": {},
     "output_type": "display_data"
    }
   ],
   "source": [
    "import matplotlib.pyplot as plt \n",
    "\n",
    "myset = set(x)\n",
    "x_axis = []\n",
    "y_axis = []\n",
    "for item in myset: \n",
    "    y_axis.append(x.count(item))\n",
    "    x_axis.append(item)\n",
    "    \n",
    "fig = plt.figure()  \n",
    "plt.bar(x_axis,y_axis,0.4,color=\"green\")  \n",
    "plt.xlabel(\"X-axis\")  \n",
    "plt.ylabel(\"Y-axis\")  \n",
    "plt.title(\"bar chart\")  \n",
    "    \n",
    "plt.show() "
   ]
  },
  {
   "cell_type": "markdown",
   "metadata": {},
   "source": [
    "**Step 4 : 然后查看上一步筛选出来的数据，将重要数据：点赞数、粉丝数进行统计。根据之前统计的经验，我们决定直接将点赞数作为评分，并将该数据写入data_new_grade_direct**"
   ]
  },
  {
   "cell_type": "code",
   "execution_count": 2,
   "metadata": {
    "collapsed": false
   },
   "outputs": [
    {
     "name": "stdout",
     "output_type": "stream",
     "text": [
      "60410\n"
     ]
    }
   ],
   "source": [
    "image_url = [\"/home/wxr/hyx/SELFIE/SpiderForSelfie-0.1.1/data_sort_longer_than_1000\",]\n",
    "data_new_grade = \"/home/wxr/hyx/SELFIE/SpiderForSelfie-0.1.1/data_new_grade_direct.txt\"\n",
    "data_new_grade_write = open(data_new_grade,\"w\")\n",
    "\n",
    "pic_set = set()\n",
    "x = []\n",
    "y = []\n",
    "lines = []\n",
    "line_count = 0 \n",
    "for path_name in image_url:\n",
    "    for name in sorted(os.listdir(path_name)):\n",
    "        if name.endswith(\".txt\"):\n",
    "            path = os.path.join(path_name,name)\n",
    "            f = open(path,\"rU\")\n",
    "            line = f.readline()\n",
    "            while line:\n",
    "                if (line.split(\"\t\")) > 3:\n",
    "                    if line.split(\"\t\")[0] not in pic_set:\n",
    "                        line_count += 1\n",
    "                        x.append(int(line.split(\"\t\")[1]))\n",
    "                        y.append(int(line.split(\"\t\")[4]))\n",
    "                        lines.append(line)\n",
    "                        data_new_grade_write.write(str(line.split(\"\t\")[1])+' '+line)\n",
    "                line = f.readline()\n",
    "            f.close()\n",
    "data_new_grade_write.close()\n",
    "print line_count"
   ]
  },
  {
   "cell_type": "markdown",
   "metadata": {},
   "source": [
    "**Step 5 : 下载图片，访问刚才筛选出来的图片URL，data_new_grade_direct.txt,将下载好的图片reshape成224，224大小**"
   ]
  },
  {
   "cell_type": "code",
   "execution_count": 5,
   "metadata": {
    "collapsed": true
   },
   "outputs": [],
   "source": [
    "#from __future__ import print_function\n",
    "import matplotlib.pyplot as plt\n",
    "import numpy as np\n",
    "import os\n",
    "import sys\n",
    "from IPython.display import display\n",
    "import requests\n",
    "import Image\n",
    "from io import BytesIO\n",
    "import h5py\n",
    "from threading import Thread, Lock\n",
    "\n",
    "# Config the matplotlib backend as plotting inline in IPython\n",
    "%matplotlib inline"
   ]
  },
  {
   "cell_type": "code",
   "execution_count": null,
   "metadata": {
    "collapsed": false
   },
   "outputs": [
    {
     "name": "stdout",
     "output_type": "stream",
     "text": [
      "total:89/60410"
     ]
    }
   ],
   "source": [
    "file_num = [0,0,0]\n",
    "url_list = []\n",
    "url_file = open('SpiderForSelfie-0.1.1/data_new_grade_direct.txt', \"rU\")\n",
    "for url in url_file:\n",
    "    if url!='' and url!='\\n':\n",
    "        url_list.append(url)\n",
    "target_num = len(url_list)\n",
    "\n",
    "def get_img(urls):\n",
    "    total_num = len(urls)\n",
    "    for i in xrange(total_num):\n",
    "        image_data = urls[i].split(\"\t\")[0]\n",
    "        grade = image_data.split()[0]\n",
    "        url = image_data.split()[1].replace(' ','')\n",
    "        love = int(urls[i].split(\"\t\")[1])\n",
    "        fan = int(urls[i].split(\"\t\")[4])\n",
    "        try:\n",
    "            response = requests.get(url)\n",
    "            image = Image.open(BytesIO(response.content))\n",
    "            image_resize = image.resize((224,224),Image.ANTIALIAS)\n",
    "            image_resize.save('data/image/hyx/img%d_%d.jpg'%(love,fan),'jpeg')\n",
    "            if (i+1)%30 == 0 or i+1 == total_num:\n",
    "                sys.stdout.write(\"\\rtotal:%d/%d\" % (i,total_num))\n",
    "                sys.stdout.flush()\n",
    "        except IOError:\n",
    "            pass\n",
    "get_img(url_list)"
   ]
  },
  {
   "cell_type": "markdown",
   "metadata": {},
   "source": [
    "**Step 6 : 将下载好的图片和评分一起存储为h5格式**"
   ]
  },
  {
   "cell_type": "code",
   "execution_count": null,
   "metadata": {
    "collapsed": true
   },
   "outputs": [],
   "source": [
    "import numpy as np\n",
    "import os\n",
    "import sys\n",
    "import Image\n",
    "import h5py"
   ]
  },
  {
   "cell_type": "code",
   "execution_count": null,
   "metadata": {
    "collapsed": true
   },
   "outputs": [],
   "source": [
    "def getFileList(path):\n",
    "    filelist = []\n",
    "    files = os.listdir(path)\n",
    "    for f in files:\n",
    "        if f[0] == '.':\n",
    "            pass\n",
    "        else:\n",
    "            filelist.append(f)\n",
    "    return filelist\n",
    "all_images = sorted(getFileList('data/image/hyx'))\n",
    "total_num=len(all_images)\n",
    "images=np.empty((total_num,224,224,3),dtype=np.uint8)\n",
    "grades=np.empty((total_num,),dtype=np.float16)\n",
    "\n",
    "num = 1\n",
    "for i in xrange(len(all_images)):\n",
    "    image_path = 'data/image/hyx/' + all_images[i]\n",
    "    image = Image.open(image_path)\n",
    "    image_resize = image.resize((224,224),Image.ANTIALIAS)\n",
    "    images[i]=np.array(image_resize.convert('RGB'),dtype=np.uint8)\n",
    "    grade = int(all_images[i].split('_')[0].split('img')[1])\n",
    "    print grade\n",
    "    grades[i] = grade\n",
    "    sys.stdout.write(\"\\rdeal: %d/%d\" % (num,total_num))\n",
    "    sys.stdout.flush()\n",
    "    del image\n",
    "    num += 1\n",
    "s_index = len(all_images)\n",
    "\n",
    "try:\n",
    "    with h5py.File('data/portrait_hyx.h5','w') as f:\n",
    "        f.create_dataset('images', data=images)\n",
    "        f.create_dataset('labels', data=grades)\n",
    "except Exception as e:\n",
    "    print('Unable to save images:', e)"
   ]
  },
  {
   "cell_type": "markdown",
   "metadata": {},
   "source": [
    "**Step 7 : 搭建神经网络，采用图像处理先进网络VGG16进行特征提取，并在顶层添加了5个全连接层，最后是一个10分类的softMax输出，并将训练好的模型存储下来，以便在webselfie工程中调用**"
   ]
  },
  {
   "cell_type": "code",
   "execution_count": null,
   "metadata": {
    "collapsed": true
   },
   "outputs": [],
   "source": [
    "import numpy as np\n",
    "import h5py\n",
    "import os\n",
    "from keras.models import Model\n",
    "import keras\n",
    "from keras.callbacks import EarlyStopping ,ModelCheckpoint\n",
    "#from keras import losses\n",
    "from keras.regularizers import l2\n",
    "from keras.layers import Activation,Dense,Dropout,Flatten,Input\n",
    "from keras.utils.np_utils import to_categorical\n",
    "\n",
    "os.environ[\"CUDA_VISIBLE_DEVICES\"] = \"0\"\n",
    "\n",
    "img_path = \"/home/wxr/hyx/SELFIE/data/portrait_hyx.h5\"\n",
    "image_row = 224\n",
    "image_col = 224\n",
    "channels = 3"
   ]
  },
  {
   "cell_type": "code",
   "execution_count": null,
   "metadata": {
    "collapsed": true
   },
   "outputs": [],
   "source": [
    "def load_image():\n",
    "    '''\n",
    "    read in img(shape:224,224,3) RGB already\n",
    "    '''\n",
    "    print 'loading images ...'\n",
    "    img_file=h5py.File(img_path,'r')\n",
    "    x = img_file['images'][:]\n",
    "    y = img_file['labels'][:]\n",
    "\n",
    "    y_real_index = np.where(y<=9)\n",
    "    x_ = x[y_real_index]\n",
    "    y_ = y[y_real_index]\n",
    "    \n",
    "    x = x_\n",
    "    y = y_\n",
    "    y = to_categorical(np.asarray(y))\n",
    "    print y\n",
    "   \n",
    "    indices = np.arange(len(x))\n",
    "    np.random.shuffle(indices)\n",
    "    \n",
    "    data = x[indices]\n",
    "    grade = y[indices]\n",
    "    nb_validation_samples = int(0.2 * len(x))\n",
    "    \n",
    "    x_train = data[:-1*nb_validation_samples]\n",
    "    y_train = grade[:-1*nb_validation_samples]\n",
    "    x_val = data[-1*nb_validation_samples:]\n",
    "    y_val = grade[-1*nb_validation_samples:]\n",
    "    \n",
    "    \n",
    "    print y_train.shape\n",
    "    print y_val.shape\n",
    "    \n",
    "    print x_train.shape\n",
    "    print x_val.shape\n",
    "    return x_train, y_train, x_val, y_val"
   ]
  },
  {
   "cell_type": "code",
   "execution_count": null,
   "metadata": {
    "collapsed": true
   },
   "outputs": [],
   "source": [
    "x_train, y_train, x_valid, y_valid = load_image()\n",
    "\n",
    "print 'finished loading images ! '\n",
    "\n",
    "mage_input=Input(shape=(image_row, image_col, channels))\n",
    "conve_model = keras.applications.vgg16.VGG16(include_top=False, weights='imagenet', input_tensor=None, input_shape=(224, 224, 3))\n",
    "for layer in conve_model.layers:\n",
    "    layer.trainable = False\n",
    "features=conve_model.output\n",
    "features=Flatten(name='flatten')(features)\n",
    "features=Dense(2048,activation='relu',name='fullc1',W_regularizer=l2(0.03))(features)\n",
    "features=Dropout(0.5)(features)\n",
    "features=Dense(1024,activation='relu',name='fullc2',W_regularizer=l2(0.03))(features)\n",
    "features=Dropout(0.5)(features)\n",
    "features=Dense(512,activation='relu',name='fullc3',W_regularizer=l2(0.03))(features)\n",
    "features=Dropout(0.5)(features)\n",
    "features=Dense(64,activation='relu',name='fullc4',W_regularizer=l2(0.03))(features)\n",
    "features=Dropout(0.5)(features)\n",
    "predictions = Dense(10, activation='softmax',name='predictions')(features)\n",
    "model = Model(input=conve_model.input, output=predictions)\n",
    "\n",
    "    \n",
    "print model.summary()\n",
    "\n",
    "#keras.optimizers.Adam(lr=0.001, beta_1=0.9, beta_2=0.999, epsilon=1e-08, decay=0.0)\n",
    "#keras.optimizers.SGD(lr=0.001, momentum=0.0, decay=0.0, nesterov=False)\n",
    "\n",
    "model.compile(optimizer=keras.optimizers.Adagrad(lr=0.01, epsilon=1e-06),\n",
    "              loss='categorical_crossentropy',\n",
    "              metrics=['accuracy'])\n",
    "\n",
    "earlyStopping = EarlyStopping(monitor='val_acc', patience=5, verbose=1, mode='auto')\n",
    "checkpointer = ModelCheckpoint(filepath=\"/home/wxr/hyx/SELFIE/model.h5\",verbose=1,save_best_only=True)\n",
    "total.fit(x_train, y_train, validation_data=(x_valid, y_valid), \n",
    "          nb_epoch=50, batch_size=16, shuffle=True,callbacks=[checkpointer, earlyStopping])\n",
    "          \n",
    "        "
   ]
  }
 ],
 "metadata": {
  "kernelspec": {
   "display_name": "Python 2",
   "language": "python",
   "name": "python2"
  },
  "language_info": {
   "codemirror_mode": {
    "name": "ipython",
    "version": 2
   },
   "file_extension": ".py",
   "mimetype": "text/x-python",
   "name": "python",
   "nbconvert_exporter": "python",
   "pygments_lexer": "ipython2",
   "version": "2.7.6"
  }
 },
 "nbformat": 4,
 "nbformat_minor": 1
}
